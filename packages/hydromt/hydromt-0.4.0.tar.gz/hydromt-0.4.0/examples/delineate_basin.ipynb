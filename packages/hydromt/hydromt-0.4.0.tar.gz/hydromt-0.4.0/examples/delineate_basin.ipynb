{
 "cells": [
  {
   "cell_type": "markdown",
   "id": "3f28abc3",
   "metadata": {},
   "source": [
    "## Delineate basins"
   ]
  },
  {
   "cell_type": "markdown",
   "id": "a2553c7d",
   "metadata": {},
   "source": [
    "The first step when building a model is to define the model domain. For hydrological models this is typically a full **basin** or **subbasin** which includes all upstream cells. For hydrodynamic models it often makes sense to use an **interbasin** to ensure that the same river only enters the model domain once. *hydroMT* has the `get_basin_geometry` function to do just that. "
   ]
  },
  {
   "cell_type": "markdown",
   "id": "d897fbcc",
   "metadata": {},
   "source": [
    "### Import packages"
   ]
  },
  {
   "cell_type": "code",
   "execution_count": null,
   "id": "8dcb1f15",
   "metadata": {},
   "outputs": [],
   "source": [
    "import numpy as np\n",
    "import pandas as pd\n",
    "import geopandas as gpd\n",
    "import xarray as xr\n",
    "from shapely.geometry import box\n",
    "from pprint import pprint"
   ]
  },
  {
   "cell_type": "code",
   "execution_count": null,
   "id": "7ee6e972",
   "metadata": {},
   "outputs": [],
   "source": [
    "# for plotting\n",
    "import matplotlib.pyplot as plt\n",
    "from matplotlib import colors, patheffects\n",
    "import cartopy.io.img_tiles as cimgt\n",
    "import cartopy.crs as ccrs\n",
    "proj = ccrs.PlateCarree() # plot projection"
   ]
  },
  {
   "cell_type": "code",
   "execution_count": null,
   "id": "7dbbfc21",
   "metadata": {},
   "outputs": [],
   "source": [
    "# import hydromt\n",
    "import hydromt\n",
    "from hydromt.workflows.basin_mask import get_basin_geometry"
   ]
  },
  {
   "cell_type": "code",
   "execution_count": null,
   "id": "3b7dea9c",
   "metadata": {},
   "outputs": [],
   "source": [
    "# setup logging\n",
    "from  hydromt.log import setuplog\n",
    "logger = setuplog(\"basin_delineation\", log_level=10)"
   ]
  },
  {
   "cell_type": "markdown",
   "id": "d386315c",
   "metadata": {},
   "source": [
    "### Read data"
   ]
  },
  {
   "cell_type": "markdown",
   "id": "1435f72c",
   "metadata": {},
   "source": [
    "Read data using the `DataCatalog`. If no yml files with data sources are provided, by default data for the Piave basin is downloaded from the hydromt-artifacts to to `~/.hydromt_data/`. Links to the original data sources and data licenses can be found in the meta dict of each source. Here we use flow direction data from [MERIT Hydro](http://hydro.iis.u-tokyo.ac.jp/~yamadai/MERIT_Hydro). Note that the original ``'MERIT Hydro'`` data has been extended with a basin mask layer,\n",
    "which together with the basin index vector data makes faster basin delineation possible."
   ]
  },
  {
   "cell_type": "code",
   "execution_count": null,
   "id": "86a947dd",
   "metadata": {},
   "outputs": [],
   "source": [
    "# instantiate instance of Data Catalog\n",
    "data_catalog = hydromt.DataCatalog(logger=logger)"
   ]
  },
  {
   "cell_type": "code",
   "execution_count": null,
   "id": "ca76aa45",
   "metadata": {},
   "outputs": [],
   "source": [
    "# read MERIT hydro flow direction data\n",
    "pprint(data_catalog[\"hydro_merit\"].meta)\n",
    "ds = data_catalog.get_rasterdataset(\"hydro_merit\") "
   ]
  },
  {
   "cell_type": "code",
   "execution_count": null,
   "id": "91deb6f7",
   "metadata": {},
   "outputs": [],
   "source": [
    "# read MERIT hydro basin index vector data\n",
    "# Here we pass the GeoDataFrameAdapter instead of the GeoDataFrame itself \n",
    "# to load the relevant area within the get_basin_geometry method\n",
    "pprint(data_catalog[\"hydro_merit_index\"].meta)\n",
    "bas_index = data_catalog[\"hydro_merit_index\"]"
   ]
  },
  {
   "cell_type": "code",
   "execution_count": null,
   "id": "9682eba4",
   "metadata": {},
   "outputs": [],
   "source": [
    "# derive river geometry based on stream order >= 7 (for plotting only)\n",
    "flwdir = hydromt.flw.flwdir_from_da(ds['flwdir'], ftype='d8')\n",
    "feats = flwdir.streams(mask=ds['strord']>=7)\n",
    "gdf_riv = gpd.GeoDataFrame.from_features(feats).set_index(\"idxs\")"
   ]
  },
  {
   "cell_type": "markdown",
   "id": "6a656fdc",
   "metadata": {},
   "source": [
    "### Delineate basins"
   ]
  },
  {
   "cell_type": "markdown",
   "id": "dd1eda97",
   "metadata": {},
   "source": [
    "Several examples to delineate sub-, inter- or full basins are provided below. Together with the command line interface (CLI) syntax for the **`hydromt build`** command. All CLI options are described in the `parse_region` method."
   ]
  },
  {
   "cell_type": "markdown",
   "id": "bdcd7819",
   "metadata": {},
   "source": [
    "Get the basin based on a point location `[x, y]`."
   ]
  },
  {
   "cell_type": "code",
   "execution_count": null,
   "id": "b122334b",
   "metadata": {},
   "outputs": [],
   "source": [
    "# CLI syntax: {'basin': [x, y]}\n",
    "\n",
    "xy=[12.6, 45.8]\n",
    "gdf_xy = gpd.GeoDataFrame(geometry=gpd.points_from_xy(x=[xy[0]], y=[xy[1]]), crs=4326)\n",
    "gdf_bas, _ = get_basin_geometry(\n",
    "    ds,\n",
    "    kind='basin',\n",
    "    xy=xy,\n",
    "    basin_index=bas_index,\n",
    "    logger=logger,\n",
    ")"
   ]
  },
  {
   "cell_type": "code",
   "execution_count": null,
   "id": "376e5c11",
   "metadata": {},
   "outputs": [],
   "source": [
    "# plot results\n",
    "extent = np.array(gdf_bas.buffer(0.1).total_bounds)[[0, 2, 1, 3]]\n",
    "fig = plt.figure(figsize=(6,8))\n",
    "ax = plt.subplot(projection=proj)\n",
    "ax.set_extent(extent, crs=proj)\n",
    "ax.add_image(cimgt.QuadtreeTiles(), 12)\n",
    "gdf_bas.boundary.plot(ax=ax, edgecolor='k')\n",
    "gdf_riv.plot(ax=ax, color='blue', alpha=0.7)\n",
    "gdf_xy.plot(ax=ax, markersize=40, c='red')"
   ]
  },
  {
   "cell_type": "markdown",
   "id": "d966cbad",
   "metadata": {},
   "source": [
    "### Delineate subbasins"
   ]
  },
  {
   "cell_type": "markdown",
   "id": "c649eee4",
   "metadata": {},
   "source": [
    "We need an intial bounding box to delineate the subbasin. This can be derived from the `hydro_merit_index` or user provided intitial `bounds`. The latter might be faster if delineating a small subbasin from a large basin. A warning is raised if not all contributing cells are included."
   ]
  },
  {
   "cell_type": "markdown",
   "id": "f729d608",
   "metadata": {},
   "source": [
    "Get a subbasin based on its outlet location `[x,y]`, snapped to a stream defined by a `<variable>:<threshold>` pair, in this case a stream order larger or equal to 7. The `variable` should be present in the dataset `ds`. "
   ]
  },
  {
   "cell_type": "code",
   "execution_count": null,
   "id": "36f172aa",
   "metadata": {},
   "outputs": [],
   "source": [
    "# {'subbasin': [x, y], <variable>: <threshold>, 'bounds': [xmin, ymin, xmax, ymax]}\n",
    "\n",
    "bounds = [12.1, 45.5, 12.9, 46.5]\n",
    "gdf_bounds = gpd.GeoDataFrame(geometry=[box(*bounds)], crs=4326)\n",
    "gdf_bas, gdf_out = get_basin_geometry(\n",
    "    ds,\n",
    "    kind='subbasin',\n",
    "    xy=xy,\n",
    "    strord=7,\n",
    "#     basin_index=bas_index,\n",
    "    bounds=bounds,\n",
    "    logger=logger,\n",
    ")"
   ]
  },
  {
   "cell_type": "code",
   "execution_count": null,
   "id": "3f81cdc3",
   "metadata": {},
   "outputs": [],
   "source": [
    "# plot results\n",
    "extent = gdf_bounds.buffer(0.05).total_bounds[[0, 2, 1, 3]]\n",
    "fig = plt.figure(figsize=(6,8))\n",
    "ax = plt.subplot(projection=proj)\n",
    "ax.set_extent(extent, crs=proj)\n",
    "ax.add_image(cimgt.QuadtreeTiles(), 12)\n",
    "gdf_bas.boundary.plot(ax=ax, edgecolor='k')\n",
    "gdf_riv.plot(ax=ax, color='blue', alpha=0.7)\n",
    "gdf_out.plot(ax=ax, markersize=40, c='red', zorder=2)\n",
    "gdf_bounds.boundary.plot(ax=ax, edgecolor='k', ls='--')"
   ]
  },
  {
   "cell_type": "markdown",
   "id": "c0863265",
   "metadata": {},
   "source": [
    "Get a subbasin based on the location where the stream flows out of a `bbox`. Here the stream defined by a `<variable>:<threshold>` pair, in this case a stream order larger or equal to 8. The `variable` should be present in the dataset `ds`. "
   ]
  },
  {
   "cell_type": "code",
   "execution_count": null,
   "id": "7a21f010",
   "metadata": {},
   "outputs": [],
   "source": [
    "# {'subbasin': [xmin, ymin, xmax, ymax], <variable>: <threshold>, 'bounds': [xmin, ymin, xmax, ymax]}\n",
    "bbox = [12.50, 45.72, 12.7, 46]\n",
    "gdf_bbox = gpd.GeoDataFrame(geometry=[box(*bbox)], crs=4326)\n",
    "gdf_bas, gdf_out = get_basin_geometry(\n",
    "    ds,\n",
    "    kind='subbasin',\n",
    "    bbox=bbox,\n",
    "    strord=8,\n",
    "    bounds=bounds,\n",
    "    logger=logger,\n",
    ")"
   ]
  },
  {
   "cell_type": "code",
   "execution_count": null,
   "id": "b2c5ac8d",
   "metadata": {},
   "outputs": [],
   "source": [
    "# plot results\n",
    "extent = gdf_bounds.buffer(0.05).total_bounds[[0, 2, 1, 3]]\n",
    "fig = plt.figure(figsize=(6,8))\n",
    "ax = plt.subplot(projection=proj)\n",
    "ax.set_extent(extent, crs=proj)\n",
    "ax.add_image(cimgt.QuadtreeTiles(), 12)\n",
    "gdf_bas.boundary.plot(ax=ax, edgecolor='k')\n",
    "gdf_riv.plot(ax=ax, color='blue', alpha=0.7)\n",
    "gdf_out.plot(ax=ax, markersize=40, c='red', zorder=2)\n",
    "gdf_bbox.boundary.plot(ax=ax, edgecolor='r', ls='-')\n",
    "gdf_bounds.boundary.plot(ax=ax, edgecolor='k', ls='--')"
   ]
  },
  {
   "cell_type": "markdown",
   "id": "670c5227",
   "metadata": {},
   "source": [
    "### Delineate interbasins"
   ]
  },
  {
   "cell_type": "markdown",
   "id": "661cf69f",
   "metadata": {},
   "source": [
    "Get an interbasin based on the streams within a `bbox`. The interbasin is limited to the most downstream contiguous area within the bbox that drains to the stream.  Here the stream defined by a `<variable>:<threshold>` pair, in this case a stream order larger or equal to 8. The `variable` should be present in the dataset `ds`. The `buffer` is required to check wether streams flow in and out of the bbox. "
   ]
  },
  {
   "cell_type": "code",
   "execution_count": null,
   "id": "e77e1f11",
   "metadata": {},
   "outputs": [],
   "source": [
    "# {'interbasin': [xmin, ymin, xmax, ymax], <variable>: <threshold>}\n",
    "gdf_bas, gdf_out = get_basin_geometry(\n",
    "    ds,\n",
    "    kind='interbasin',\n",
    "    bbox=bbox,\n",
    "    strord=8,\n",
    "    buffer=20,\n",
    "    logger=logger,\n",
    ")"
   ]
  },
  {
   "cell_type": "code",
   "execution_count": null,
   "id": "a520bd10",
   "metadata": {},
   "outputs": [],
   "source": [
    "# plot results\n",
    "extent = gdf_bbox.buffer(0.02).total_bounds[[0, 2, 1, 3]]\n",
    "fig = plt.figure(figsize=(6,8))\n",
    "ax = plt.subplot(projection=proj)\n",
    "ax.set_extent(extent, crs=proj)\n",
    "ax.add_image(cimgt.QuadtreeTiles(), 12)\n",
    "gdf_bas.boundary.plot(ax=ax, edgecolor='k', zorder=2)\n",
    "gdf_riv.plot(ax=ax, color='blue', alpha=0.7)\n",
    "gdf_out.plot(ax=ax, markersize=40, c='red', zorder=2)\n",
    "gdf_bbox.boundary.plot(ax=ax, edgecolor='r', ls='-', zorder=1)\n",
    "gdf_bounds.boundary.plot(ax=ax, edgecolor='k', ls='--', zorder=1)"
   ]
  }
 ],
 "metadata": {
  "kernelspec": {
   "display_name": "Python 3",
   "language": "python",
   "name": "python3"
  },
  "language_info": {
   "codemirror_mode": {
    "name": "ipython",
    "version": 3
   },
   "file_extension": ".py",
   "mimetype": "text/x-python",
   "name": "python",
   "nbconvert_exporter": "python",
   "pygments_lexer": "ipython3",
   "version": "3.9.2"
  }
 },
 "nbformat": 4,
 "nbformat_minor": 5
}
