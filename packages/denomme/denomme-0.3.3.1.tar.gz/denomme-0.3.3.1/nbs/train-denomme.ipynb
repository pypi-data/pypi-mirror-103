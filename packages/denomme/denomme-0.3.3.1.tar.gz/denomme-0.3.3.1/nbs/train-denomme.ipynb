{
  "nbformat": 4,
  "nbformat_minor": 0,
  "metadata": {
    "colab": {
      "name": "Denomme.ipynb",
      "provenance": [],
      "collapsed_sections": [
        "KYd0VsJql3Xb",
        "OCm7mJSRSqWm",
        "A7IxOBkCmVWl",
        "OjNUZAEDKVbn"
      ],
      "machine_shape": "hm",
      "mount_file_id": "1-ac1Hzagt1n40HClBz4EiCNYVaoJvZp0",
      "authorship_tag": "ABX9TyN+3ZMFIY/rQk2tuA75+SBC",
      "include_colab_link": true
    },
    "kernelspec": {
      "display_name": "Python 3",
      "name": "python3"
    },
    "language_info": {
      "name": "python"
    },
    "accelerator": "GPU"
  },
  "cells": [
    {
      "cell_type": "markdown",
      "metadata": {
        "id": "view-in-github",
        "colab_type": "text"
      },
      "source": [
        "<a href=\"https://colab.research.google.com/github/meghanabhange/denomme/blob/multi-lingual-name/nbs/train-denomme.ipynb\" target=\"_parent\"><img src=\"https://colab.research.google.com/assets/colab-badge.svg\" alt=\"Open In Colab\"/></a>"
      ]
    },
    {
      "cell_type": "markdown",
      "metadata": {
        "id": "KYd0VsJql3Xb"
      },
      "source": [
        "# I. Installation and Unzip"
      ]
    },
    {
      "cell_type": "code",
      "metadata": {
        "id": "qgpHLAR3iK0W"
      },
      "source": [
        "!pip install spacy --upgrade\n",
        "!pip install fire\n",
        "!pip install spacy_transformers\n",
        "!pip install transformers[sentencepiece]"
      ],
      "execution_count": null,
      "outputs": []
    },
    {
      "cell_type": "code",
      "metadata": {
        "id": "yOdTPsJllRfK"
      },
      "source": [
        "!git clone https://github.com/meghanabhange/denomme.git\n",
        "%cd denomme\n",
        "# !git checkout multi-lingual-name"
      ],
      "execution_count": null,
      "outputs": []
    },
    {
      "cell_type": "markdown",
      "metadata": {
        "id": "OCm7mJSRSqWm"
      },
      "source": [
        "## Copy your assets folder here. \n",
        "---\n",
        "### Expected dir structure for assets: \n",
        "```\n",
        "denomme\n",
        "└───assets\n",
        "│   │   train.json\n",
        "│   │   dev.json\n",
        "│   │\n",
        "│   └───raw\n",
        "│   │   │   data.txt\n",
        "│   │   │   more_data.txt\n",
        "│   │   │   ...\n",
        "│   └───processed\n",
        "│       │   data.json\n",
        "│       │   more_data.json\n",
        "│       │   ...\n",
        "│   \n",
        "└─── ...\n",
        "```\n",
        "---\n",
        "Raw files to processed can be converted into expected format by using `scripts/convert_to_spacy` then create a suitable split into `train.json` and `dev.json` to use \n",
        "\n",
        "More details in section `II. Data conversion` "
      ]
    },
    {
      "cell_type": "code",
      "metadata": {
        "id": "huMSso24Kz8h"
      },
      "source": [
        "!cp -r ../drive/MyDrive/denomme/assets . "
      ],
      "execution_count": 3,
      "outputs": []
    },
    {
      "cell_type": "markdown",
      "metadata": {
        "id": "A7IxOBkCmVWl"
      },
      "source": [
        "# II. Data conversion\n",
        "\n",
        "Expected data format : `.txt` files in dir \n",
        "\n",
        "- `S-PER` - Single person name without last name or middle name\n",
        "- `B-PER` - Beginning of person name in multi-word name\n",
        "- `I-PER` - Middle name(s) can be multiple including initials\n",
        "- `E-PER` - End of person name\n",
        "- `O` - Everything else \n",
        "\n",
        "---\n",
        "\n",
        "### Example : \n",
        "\n",
        "```\n",
        "two O\n",
        "characters O\n",
        "are O\n",
        "named O\n",
        "Dixon B-PER\n",
        "R. I-PER\n",
        "L. I-PER\n",
        "Stien E-PER\n",
        "and O\n",
        "Winterburn S-PER\n",
        "-- O\n",
        "```"
      ]
    },
    {
      "cell_type": "code",
      "metadata": {
        "id": "CJuEV-pimXd0"
      },
      "source": [
        "!python -m scripts.convert_to_spacy --modified_ner_dir raw --out_dir processed"
      ],
      "execution_count": 46,
      "outputs": []
    },
    {
      "cell_type": "markdown",
      "metadata": {
        "id": "OjNUZAEDKVbn"
      },
      "source": [
        "# III. Train with transformers"
      ]
    },
    {
      "cell_type": "code",
      "metadata": {
        "id": "XSLUGfZSKgLf"
      },
      "source": [
        "!python -m spacy project run train-denomme"
      ],
      "execution_count": null,
      "outputs": []
    },
    {
      "cell_type": "markdown",
      "metadata": {
        "id": "1-BiW0AJOxky"
      },
      "source": [
        "# IV. Upload to AWS [optional]"
      ]
    },
    {
      "cell_type": "code",
      "metadata": {
        "id": "szIcQbfKVq5W"
      },
      "source": [
        "# %cd /content/denomme/packages/xx_denomme-0.3.1\n",
        "# !python setup.py sdist\n",
        "# %cd /content/denomme"
      ],
      "execution_count": null,
      "outputs": []
    },
    {
      "cell_type": "code",
      "metadata": {
        "id": "7LHH8TLbMK_Q"
      },
      "source": [
        "# !curl \"https://awscli.amazonaws.com/awscli-exe-linux-x86_64.zip\" -o \"awscliv2.zip\"\n",
        "# !unzip awscliv2.zip\n",
        "# !sudo ./aws/install\n",
        "# !aws configure"
      ],
      "execution_count": null,
      "outputs": []
    },
    {
      "cell_type": "code",
      "metadata": {
        "id": "cRdnh3c3NIzJ"
      },
      "source": [
        "# !aws s3 cp /content/denomme/packages/xx_denomme-0.3.1/dist/xx_denomme-0.3.1.tar.gz s3://denomme/xx_denomme-0.3.1/dist/"
      ],
      "execution_count": null,
      "outputs": []
    },
    {
      "cell_type": "markdown",
      "metadata": {
        "id": "q9FQmCpzdk3v"
      },
      "source": [
        "# V. Testing out the model"
      ]
    },
    {
      "cell_type": "code",
      "metadata": {
        "id": "MaxxB1S7OJcE"
      },
      "source": [
        "!pip install https://denomme.s3.us-east-2.amazonaws.com/xx_denomme-0.3.1/dist/xx_denomme-0.3.1.tar.gz"
      ],
      "execution_count": null,
      "outputs": []
    },
    {
      "cell_type": "code",
      "metadata": {
        "id": "9OQwzQxTxtUE"
      },
      "source": [
        "import spacy\n",
        "from tqdm import tqdm\n",
        "from spacy.lang.xx import MultiLanguage\n",
        "from denomme import denomme_component\n",
        "from spacy import displacy\n",
        "tqdm.pandas()"
      ],
      "execution_count": null,
      "outputs": []
    },
    {
      "cell_type": "code",
      "metadata": {
        "id": "5EW16RjMHy5Q"
      },
      "source": [
        "nlp = MultiLanguage()\n",
        "nlp.add_pipe(\"denomme\")\n",
        "doc = nlp(\"Hi my name is Meghana S.R Bhange and I want to talk Asha\")\n",
        "print(doc._.person_name)"
      ],
      "execution_count": null,
      "outputs": []
    },
    {
      "cell_type": "code",
      "metadata": {
        "id": "0ahJcQe4RXrw"
      },
      "source": [
        "%timeit doc = nlp(\"My name is Ketaki S.R Ambadkar\"); doc.ents"
      ],
      "execution_count": null,
      "outputs": []
    },
    {
      "cell_type": "code",
      "metadata": {
        "id": "CkTbROGOG1Tu"
      },
      "source": [
        "%timeit doc = nlp(\"في 9 مايو 2006 , تم افتتاح ملعب جديد في مدينة ريال مدريد الرياضية وتم تسميته بأحد أهم اللاعبين الذي سطروا أسمائهم بأحرف من ذهب في تاريخ ريال مدريد وهو ألفريدو دي ستيفانو .\"); doc.ents"
      ],
      "execution_count": null,
      "outputs": []
    },
    {
      "cell_type": "code",
      "metadata": {
        "id": "6LTWcDr7VD-1"
      },
      "source": [
        "def get_ents(doc):\n",
        "  ents = [\n",
        "        {\n",
        "            \"start\":doc.text.find(name.text),\n",
        "            \"end\" : doc.text.find(name.text)+len(name.text),\n",
        "            \"label\": name.label_\n",
        "        }\n",
        "        for name in doc._.person_name\n",
        "        ]\n",
        "  ex = [{\"text\": doc.text,\n",
        "        \"ents\": ents,\n",
        "        \"title\": \"Denomme : Name Detection\"}]\n",
        "  return ex"
      ],
      "execution_count": null,
      "outputs": []
    },
    {
      "cell_type": "code",
      "metadata": {
        "id": "PkIWW6AdbJsB"
      },
      "source": [
        "doc = nlp(\"Hi , I my name is Meghana S.R Bhange, I want to book an appointment for Ketaki and also Dr. S Kumar\")\n",
        "ex = get_ents(doc)\n",
        "displacy.render(ex, style=\"ent\", manual=True, jupyter=True)"
      ],
      "execution_count": null,
      "outputs": []
    },
    {
      "cell_type": "code",
      "metadata": {
        "id": "OHmcAAzoVBtR"
      },
      "source": [
        "doc = nlp(\"في 9 مايو 2006 , تم افتتاح ملعب جديد في مدينة ريال مدريد الرياضية وتم تسميته بأحد أهم اللاعبين الذي سطروا أسمائهم بأحرف من ذهب في تاريخ ريال مدريد وهو ألفريدو دي ستيفانو .\")\n",
        "ex = get_ents(doc)\n",
        "displacy.render(ex, style=\"ent\", manual=True, jupyter=True)"
      ],
      "execution_count": null,
      "outputs": []
    },
    {
      "cell_type": "markdown",
      "metadata": {
        "id": "C7-8EVSIh8v6"
      },
      "source": [
        "# Checking Metrics"
      ]
    },
    {
      "cell_type": "code",
      "metadata": {
        "id": "iE2lrk8Ph-6b"
      },
      "source": [
        "from sklearn.metrics import accuracy_score\n",
        "from sklearn.metrics import precision_score, f1_score, recall_score\n",
        "from sklearn.metrics import roc_auc_score\n",
        "import pandas as pd"
      ],
      "execution_count": null,
      "outputs": []
    },
    {
      "cell_type": "code",
      "metadata": {
        "id": "xiC2aendihhH"
      },
      "source": [
        "test_set_1 = pd.read_csv(\"assets/01_test_set.csv\")\n",
        "test_set_2 = pd.read_csv(\"assets/02_test_set.csv\")"
      ],
      "execution_count": null,
      "outputs": []
    },
    {
      "cell_type": "code",
      "metadata": {
        "id": "LYVZ4-oNizR2"
      },
      "source": [
        "def predict_names(sent):\n",
        "  doc = nlp(sent.lower())\n",
        "  names = [name.text for name in doc._.person_name]\n",
        "  if names:\n",
        "    return names[0].lower()\n",
        "  return \"\"\n",
        "  \n",
        "def metrics(df):\n",
        "  metrics = {\n",
        "      \"Namignizer\" : {},\n",
        "      \"Denomme\" : {}\n",
        "  }\n",
        "  df[\"Denomme\"] = df[\"Input\"].progress_apply(predict_names)\n",
        "  df.fillna(\"\", inplace=True)\n",
        "  metrics[\"Namignizer\"][\"Accuracy Score\"] = accuracy_score(df[\"Namignizer\"], df[\"Name\"])\n",
        "  metrics[\"Denomme\"][\"Accuracy Score\"] = accuracy_score(df[\"Denomme\"], df[\"Name\"])\n",
        "\n",
        "  metrics[\"Namignizer\"][\"f1_score Macro\"] = f1_score(df[\"Namignizer\"], df[\"Name\"],  average='macro')\n",
        "  metrics[\"Denomme\"][\"f1_score Macro\"] = f1_score(df[\"Denomme\"], df[\"Name\"],  average='macro')\n",
        "\n",
        "  metrics[\"Namignizer\"][\"precision_score Macro\"] = precision_score(df[\"Namignizer\"], df[\"Name\"],  average='macro')\n",
        "  metrics[\"Denomme\"][\"precision_score Macro\"] = precision_score(df[\"Denomme\"], df[\"Name\"],  average='macro')\n",
        "\n",
        "  metrics[\"Namignizer\"][\"recall_score Macro\"] = recall_score(df[\"Namignizer\"], df[\"Name\"],  average='macro')\n",
        "  metrics[\"Denomme\"][\"recall_score Macro\"] = recall_score(df[\"Denomme\"], df[\"Name\"],  average='macro')\n",
        "\n",
        "  # metrics[\"Namignizer\"][\"roc_auc_score Macro\"] = roc_auc_score(df[\"Namignizer\"], df[\"Name\"],  average='macro')\n",
        "  # metrics[\"Denomme\"][\"roc_auc_score Macro\"] = roc_auc_score(df[\"Denomme\"], df[\"Name\"],  multi_class='ovr')\n",
        "  return metrics\n",
        "  "
      ],
      "execution_count": null,
      "outputs": []
    },
    {
      "cell_type": "code",
      "metadata": {
        "id": "ORnh-sIxkUNy"
      },
      "source": [
        "metrics(test_set_1)"
      ],
      "execution_count": null,
      "outputs": []
    },
    {
      "cell_type": "code",
      "metadata": {
        "colab": {
          "background_save": true
        },
        "id": "RoGP-bHpkXVb"
      },
      "source": [
        "metrics(test_set_2)"
      ],
      "execution_count": null,
      "outputs": []
    }
  ]
}