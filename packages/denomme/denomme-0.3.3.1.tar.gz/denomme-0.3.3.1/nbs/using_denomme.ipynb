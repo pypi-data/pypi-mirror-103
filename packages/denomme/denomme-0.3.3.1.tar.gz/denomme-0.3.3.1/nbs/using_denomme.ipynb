{
  "nbformat": 4,
  "nbformat_minor": 0,
  "metadata": {
    "colab": {
      "name": "Using-denomme.ipynb",
      "provenance": [],
      "collapsed_sections": [
        "A7IxOBkCmVWl",
        "OjNUZAEDKVbn"
      ],
      "machine_shape": "hm",
      "include_colab_link": true
    },
    "kernelspec": {
      "display_name": "Python 3",
      "name": "python3"
    },
    "language_info": {
      "name": "python"
    }
  },
  "cells": [
    {
      "cell_type": "markdown",
      "metadata": {
        "id": "view-in-github",
        "colab_type": "text"
      },
      "source": [
        "<a href=\"https://colab.research.google.com/github/meghanabhange/denomme/blob/multi-lingual-name/nbs/using_denomme.ipynb\" target=\"_parent\"><img src=\"https://colab.research.google.com/assets/colab-badge.svg\" alt=\"Open In Colab\"/></a>"
      ]
    },
    {
      "cell_type": "markdown",
      "metadata": {
        "id": "KYd0VsJql3Xb"
      },
      "source": [
        "# Installtion and Unzip"
      ]
    },
    {
      "cell_type": "code",
      "metadata": {
        "id": "qgpHLAR3iK0W",
        "outputId": "11c7a0ad-78ba-42bf-98ed-3c1a7edb7c1f",
        "colab": {
          "base_uri": "https://localhost:8080/"
        }
      },
      "source": [
        "!pip install fire\n",
        "!pip install spacy_transformers\n",
        "!transformers[sentencepiece]"
      ],
      "execution_count": 22,
      "outputs": [
        {
          "output_type": "stream",
          "text": [
            "Collecting fire\n",
            "\u001b[?25l  Downloading https://files.pythonhosted.org/packages/11/07/a119a1aa04d37bc819940d95ed7e135a7dcca1c098123a3764a6dcace9e7/fire-0.4.0.tar.gz (87kB)\n",
            "\r\u001b[K     |███▊                            | 10kB 12.6MB/s eta 0:00:01\r\u001b[K     |███████▌                        | 20kB 17.0MB/s eta 0:00:01\r\u001b[K     |███████████▏                    | 30kB 11.7MB/s eta 0:00:01\r\u001b[K     |███████████████                 | 40kB 7.8MB/s eta 0:00:01\r\u001b[K     |██████████████████▊             | 51kB 4.2MB/s eta 0:00:01\r\u001b[K     |██████████████████████▍         | 61kB 5.0MB/s eta 0:00:01\r\u001b[K     |██████████████████████████▏     | 71kB 5.3MB/s eta 0:00:01\r\u001b[K     |██████████████████████████████  | 81kB 5.5MB/s eta 0:00:01\r\u001b[K     |████████████████████████████████| 92kB 3.6MB/s \n",
            "\u001b[?25hRequirement already satisfied: six in /usr/local/lib/python3.7/dist-packages (from fire) (1.15.0)\n",
            "Requirement already satisfied: termcolor in /usr/local/lib/python3.7/dist-packages (from fire) (1.1.0)\n",
            "Building wheels for collected packages: fire\n",
            "  Building wheel for fire (setup.py) ... \u001b[?25l\u001b[?25hdone\n",
            "  Created wheel for fire: filename=fire-0.4.0-py2.py3-none-any.whl size=115928 sha256=d11a2e41d27a385e585e3e0c71c23bdb4f09fea8472f588729b83f06008d9d58\n",
            "  Stored in directory: /root/.cache/pip/wheels/af/19/30/1ea0cad502dcb4e66ed5a690279628c827aea38bbbab75d5ed\n",
            "Successfully built fire\n",
            "Installing collected packages: fire\n",
            "Successfully installed fire-0.4.0\n",
            "Collecting spacy_transformers\n",
            "  Downloading https://files.pythonhosted.org/packages/5b/22/51e9e59ebb0d914cf162201ca76f497a2fb1730e9fcf6cf5f5de3a2fbfc0/spacy_transformers-1.0.1-py2.py3-none-any.whl\n",
            "Collecting spacy-alignments<1.0.0,>=0.7.2\n",
            "\u001b[?25l  Downloading https://files.pythonhosted.org/packages/ea/86/a6786d24d1d8f3a6cff2c60b55a7e845725a94919cd94d270ea49d82e59b/spacy_alignments-0.8.3-cp37-cp37m-manylinux2014_x86_64.whl (998kB)\n",
            "\u001b[K     |████████████████████████████████| 1.0MB 5.8MB/s \n",
            "\u001b[?25hRequirement already satisfied: importlib-metadata>=0.20; python_version < \"3.8\" in /usr/local/lib/python3.7/dist-packages (from spacy_transformers) (3.8.1)\n",
            "Collecting transformers<4.3.0,>=3.1.0\n",
            "\u001b[?25l  Downloading https://files.pythonhosted.org/packages/88/b1/41130a228dd656a1a31ba281598a968320283f48d42782845f6ba567f00b/transformers-4.2.2-py3-none-any.whl (1.8MB)\n",
            "\u001b[K     |████████████████████████████████| 1.8MB 15.6MB/s \n",
            "\u001b[?25hCollecting ftfy<6.0.0,>=5.0.0\n",
            "\u001b[?25l  Downloading https://files.pythonhosted.org/packages/04/06/e5c80e2e0f979628d47345efba51f7ba386fe95963b11c594209085f5a9b/ftfy-5.9.tar.gz (66kB)\n",
            "\u001b[K     |████████████████████████████████| 71kB 6.7MB/s \n",
            "\u001b[?25hRequirement already satisfied: srsly<3.0.0,>=2.4.0 in /usr/local/lib/python3.7/dist-packages (from spacy_transformers) (2.4.1)\n",
            "Collecting torchcontrib<0.1.0,>=0.0.2\n",
            "  Downloading https://files.pythonhosted.org/packages/72/36/45d475035ab35353911e72a03c1c1210eba63b71e5a6917a9e78a046aa10/torchcontrib-0.0.2.tar.gz\n",
            "Requirement already satisfied: torch>=1.5.0 in /usr/local/lib/python3.7/dist-packages (from spacy_transformers) (1.8.1+cu101)\n",
            "Requirement already satisfied: zipp>=0.5 in /usr/local/lib/python3.7/dist-packages (from importlib-metadata>=0.20; python_version < \"3.8\"->spacy_transformers) (3.4.1)\n",
            "Requirement already satisfied: typing-extensions>=3.6.4; python_version < \"3.8\" in /usr/local/lib/python3.7/dist-packages (from importlib-metadata>=0.20; python_version < \"3.8\"->spacy_transformers) (3.7.4.3)\n",
            "Requirement already satisfied: regex!=2019.12.17 in /usr/local/lib/python3.7/dist-packages (from transformers<4.3.0,>=3.1.0->spacy_transformers) (2019.12.20)\n",
            "Collecting sacremoses\n",
            "\u001b[?25l  Downloading https://files.pythonhosted.org/packages/08/cd/342e584ee544d044fb573ae697404ce22ede086c9e87ce5960772084cad0/sacremoses-0.0.44.tar.gz (862kB)\n",
            "\u001b[K     |████████████████████████████████| 870kB 30.7MB/s \n",
            "\u001b[?25hRequirement already satisfied: filelock in /usr/local/lib/python3.7/dist-packages (from transformers<4.3.0,>=3.1.0->spacy_transformers) (3.0.12)\n",
            "Collecting tokenizers==0.9.4\n",
            "\u001b[?25l  Downloading https://files.pythonhosted.org/packages/fb/36/59e4a62254c5fcb43894c6b0e9403ec6f4238cc2422a003ed2e6279a1784/tokenizers-0.9.4-cp37-cp37m-manylinux2010_x86_64.whl (2.9MB)\n",
            "\u001b[K     |████████████████████████████████| 2.9MB 43.6MB/s \n",
            "\u001b[?25hRequirement already satisfied: requests in /usr/local/lib/python3.7/dist-packages (from transformers<4.3.0,>=3.1.0->spacy_transformers) (2.23.0)\n",
            "Requirement already satisfied: packaging in /usr/local/lib/python3.7/dist-packages (from transformers<4.3.0,>=3.1.0->spacy_transformers) (20.9)\n",
            "Requirement already satisfied: tqdm>=4.27 in /usr/local/lib/python3.7/dist-packages (from transformers<4.3.0,>=3.1.0->spacy_transformers) (4.41.1)\n",
            "Requirement already satisfied: numpy in /usr/local/lib/python3.7/dist-packages (from transformers<4.3.0,>=3.1.0->spacy_transformers) (1.19.5)\n",
            "Requirement already satisfied: wcwidth in /usr/local/lib/python3.7/dist-packages (from ftfy<6.0.0,>=5.0.0->spacy_transformers) (0.2.5)\n",
            "Requirement already satisfied: catalogue<2.1.0,>=2.0.1 in /usr/local/lib/python3.7/dist-packages (from srsly<3.0.0,>=2.4.0->spacy_transformers) (2.0.1)\n",
            "Requirement already satisfied: six in /usr/local/lib/python3.7/dist-packages (from sacremoses->transformers<4.3.0,>=3.1.0->spacy_transformers) (1.15.0)\n",
            "Requirement already satisfied: click in /usr/local/lib/python3.7/dist-packages (from sacremoses->transformers<4.3.0,>=3.1.0->spacy_transformers) (7.1.2)\n",
            "Requirement already satisfied: joblib in /usr/local/lib/python3.7/dist-packages (from sacremoses->transformers<4.3.0,>=3.1.0->spacy_transformers) (1.0.1)\n",
            "Requirement already satisfied: certifi>=2017.4.17 in /usr/local/lib/python3.7/dist-packages (from requests->transformers<4.3.0,>=3.1.0->spacy_transformers) (2020.12.5)\n",
            "Requirement already satisfied: chardet<4,>=3.0.2 in /usr/local/lib/python3.7/dist-packages (from requests->transformers<4.3.0,>=3.1.0->spacy_transformers) (3.0.4)\n",
            "Requirement already satisfied: urllib3!=1.25.0,!=1.25.1,<1.26,>=1.21.1 in /usr/local/lib/python3.7/dist-packages (from requests->transformers<4.3.0,>=3.1.0->spacy_transformers) (1.24.3)\n",
            "Requirement already satisfied: idna<3,>=2.5 in /usr/local/lib/python3.7/dist-packages (from requests->transformers<4.3.0,>=3.1.0->spacy_transformers) (2.10)\n",
            "Requirement already satisfied: pyparsing>=2.0.2 in /usr/local/lib/python3.7/dist-packages (from packaging->transformers<4.3.0,>=3.1.0->spacy_transformers) (2.4.7)\n",
            "Building wheels for collected packages: ftfy, torchcontrib, sacremoses\n",
            "  Building wheel for ftfy (setup.py) ... \u001b[?25l\u001b[?25hdone\n",
            "  Created wheel for ftfy: filename=ftfy-5.9-cp37-none-any.whl size=46451 sha256=061bb53eb1f7f617020df948d6e54a3ac5fa70391c7cec4e6f690f108e39dd12\n",
            "  Stored in directory: /root/.cache/pip/wheels/5e/2e/f0/b07196e8c929114998f0316894a61c752b63bfa3fdd50d2fc3\n",
            "  Building wheel for torchcontrib (setup.py) ... \u001b[?25l\u001b[?25hdone\n",
            "  Created wheel for torchcontrib: filename=torchcontrib-0.0.2-cp37-none-any.whl size=7532 sha256=8ba2b06706b1422802bb0d9177843aa8bd8805dcd24cc8a447f92b86355eb411\n",
            "  Stored in directory: /root/.cache/pip/wheels/06/06/7b/a5f5920bbf4f12a2c927e438fac17d4cd9560f8336b00e9a99\n",
            "  Building wheel for sacremoses (setup.py) ... \u001b[?25l\u001b[?25hdone\n",
            "  Created wheel for sacremoses: filename=sacremoses-0.0.44-cp37-none-any.whl size=886084 sha256=c578d0d3cffa9a52c7f8e87115278b4cdbfcb3cb4fd1fcd26d1ad5ceb2bf9326\n",
            "  Stored in directory: /root/.cache/pip/wheels/3e/fb/c0/13ab4d63d537658f448366744654323077c4d90069b6512f3c\n",
            "Successfully built ftfy torchcontrib sacremoses\n",
            "Installing collected packages: spacy-alignments, sacremoses, tokenizers, transformers, ftfy, torchcontrib, spacy-transformers\n",
            "Successfully installed ftfy-5.9 sacremoses-0.0.44 spacy-alignments-0.8.3 spacy-transformers-1.0.1 tokenizers-0.9.4 torchcontrib-0.0.2 transformers-4.2.2\n",
            "/bin/bash: transformers[sentencepiece]: command not found\n"
          ],
          "name": "stdout"
        }
      ]
    },
    {
      "cell_type": "code",
      "metadata": {
        "id": "yOdTPsJllRfK",
        "colab": {
          "base_uri": "https://localhost:8080/"
        },
        "outputId": "11a2bf80-9daf-4158-ad51-5128b6d7eddf"
      },
      "source": [
        "!git clone https://github.com/meghanabhange/denomme.git\n",
        "%cd denomme\n",
        "!git checkout multi-lingual-name"
      ],
      "execution_count": 2,
      "outputs": [
        {
          "output_type": "stream",
          "text": [
            "fatal: not a git repository (or any of the parent directories): .git\n"
          ],
          "name": "stdout"
        }
      ]
    },
    {
      "cell_type": "code",
      "metadata": {
        "colab": {
          "base_uri": "https://localhost:8080/"
        },
        "id": "QgOconDw-gJM",
        "outputId": "d424c587-8fcf-4396-d2f2-3ea8b940fcd0"
      },
      "source": [
        "!curl https://denomme.s3.us-east-2.amazonaws.com/en_denomme-0.3.0/dist/en_denomme-0.3.0.tar.gz --output en_denomme-0.3.0.tar.gz"
      ],
      "execution_count": 4,
      "outputs": [
        {
          "output_type": "stream",
          "text": [
            "  % Total    % Received % Xferd  Average Speed   Time    Time     Time  Current\n",
            "                                 Dload  Upload   Total   Spent    Left  Speed\n",
            "100 1737M  100 1737M    0     0  74.8M      0  0:00:23  0:00:23 --:--:-- 70.4M\n"
          ],
          "name": "stdout"
        }
      ]
    },
    {
      "cell_type": "markdown",
      "metadata": {
        "id": "q9FQmCpzdk3v"
      },
      "source": [
        "# Testing out the model"
      ]
    },
    {
      "cell_type": "code",
      "metadata": {
        "colab": {
          "base_uri": "https://localhost:8080/",
          "height": 368
        },
        "id": "9OQwzQxTxtUE",
        "outputId": "feb1066e-8dff-46b6-8994-97b777ce9a5c"
      },
      "source": [
        "import spacy\n",
        "from denomme import denomme_component\n",
        "from spacy.language import Language\n",
        "from tqdm import tqdm\n",
        "tqdm.pandas()"
      ],
      "execution_count": 5,
      "outputs": [
        {
          "output_type": "error",
          "ename": "ModuleNotFoundError",
          "evalue": "ignored",
          "traceback": [
            "\u001b[0;31m---------------------------------------------------------------------------\u001b[0m",
            "\u001b[0;31mModuleNotFoundError\u001b[0m                       Traceback (most recent call last)",
            "\u001b[0;32m<ipython-input-5-84628d449281>\u001b[0m in \u001b[0;36m<module>\u001b[0;34m()\u001b[0m\n\u001b[1;32m      1\u001b[0m \u001b[0;32mimport\u001b[0m \u001b[0mspacy\u001b[0m\u001b[0;34m\u001b[0m\u001b[0;34m\u001b[0m\u001b[0m\n\u001b[0;32m----> 2\u001b[0;31m \u001b[0;32mfrom\u001b[0m \u001b[0mdenomme\u001b[0m \u001b[0;32mimport\u001b[0m \u001b[0mdenomme_component\u001b[0m\u001b[0;34m\u001b[0m\u001b[0;34m\u001b[0m\u001b[0m\n\u001b[0m\u001b[1;32m      3\u001b[0m \u001b[0;32mfrom\u001b[0m \u001b[0mspacy\u001b[0m\u001b[0;34m.\u001b[0m\u001b[0mlanguage\u001b[0m \u001b[0;32mimport\u001b[0m \u001b[0mLanguage\u001b[0m\u001b[0;34m\u001b[0m\u001b[0;34m\u001b[0m\u001b[0m\n\u001b[1;32m      4\u001b[0m \u001b[0;32mfrom\u001b[0m \u001b[0mtqdm\u001b[0m \u001b[0;32mimport\u001b[0m \u001b[0mtqdm\u001b[0m\u001b[0;34m\u001b[0m\u001b[0;34m\u001b[0m\u001b[0m\n\u001b[1;32m      5\u001b[0m \u001b[0mtqdm\u001b[0m\u001b[0;34m.\u001b[0m\u001b[0mpandas\u001b[0m\u001b[0;34m(\u001b[0m\u001b[0;34m)\u001b[0m\u001b[0;34m\u001b[0m\u001b[0;34m\u001b[0m\u001b[0m\n",
            "\u001b[0;31mModuleNotFoundError\u001b[0m: No module named 'denomme'",
            "",
            "\u001b[0;31m---------------------------------------------------------------------------\u001b[0;32m\nNOTE: If your import is failing due to a missing package, you can\nmanually install dependencies using either !pip or !apt.\n\nTo view examples of installing some common dependencies, click the\n\"Open Examples\" button below.\n\u001b[0;31m---------------------------------------------------------------------------\u001b[0m\n"
          ]
        }
      ]
    },
    {
      "cell_type": "code",
      "metadata": {
        "id": "5EW16RjMHy5Q"
      },
      "source": [
        "nlp = spacy.load(\"en_core_web_lg\")\n",
        "nlp.add_pipe(\"denomme\")"
      ],
      "execution_count": null,
      "outputs": []
    },
    {
      "cell_type": "code",
      "metadata": {
        "id": "CtaSzTt5RONS"
      },
      "source": [
        "doc = nlp(\"My name is Meghanana S.R Bhange and I want to book appointment for ketaki who is in London, UK\")\n",
        "for name in doc._.person_name:\n",
        "  print(f\"Name found : {name.text} | Start and End : {name.start, name.end}\")\n",
        "\n",
        "for ent in doc.ents:\n",
        "  print(f\"Entity Found : {ent.text} : {ent.label_}\")"
      ],
      "execution_count": null,
      "outputs": []
    },
    {
      "cell_type": "code",
      "metadata": {
        "id": "216o-L1EzGgV"
      },
      "source": [
        "doc = nlp(\"في 9 مايو 2006 , تم افتتاح ملعب جديد في مدينة ريال مدريد الرياضية وتم تسميته بأحد أهم اللاعبين الذي سطروا أسمائهم بأحرف من ذهب في تاريخ ريال مدريد وهو ألفريدو دي ستيفانو .\")\n",
        "for name in doc._.person_name:\n",
        "  print(f\"Name found : {name.text} | Start and End : {name.start, name.end}\")\n",
        "\n",
        "for ent in doc.ents:\n",
        "  print(f\"Entity Found : {ent.text} : {ent.label_}\")"
      ],
      "execution_count": null,
      "outputs": []
    },
    {
      "cell_type": "code",
      "metadata": {
        "id": "0ahJcQe4RXrw"
      },
      "source": [
        "%timeit doc = nlp(\"My name is Ketaki S.R Ambadkar\"); doc.ents"
      ],
      "execution_count": null,
      "outputs": []
    },
    {
      "cell_type": "code",
      "metadata": {
        "id": "CkTbROGOG1Tu"
      },
      "source": [
        "%timeit doc = nlp(\"في 9 مايو 2006 , تم افتتاح ملعب جديد في مدينة ريال مدريد الرياضية وتم تسميته بأحد أهم اللاعبين الذي سطروا أسمائهم بأحرف من ذهب في تاريخ ريال مدريد وهو ألفريدو دي ستيفانو .\"); doc.ents"
      ],
      "execution_count": null,
      "outputs": []
    },
    {
      "cell_type": "code",
      "metadata": {
        "id": "PkIWW6AdbJsB"
      },
      "source": [
        "#@title Name\n",
        "\n",
        "text = \"Hi , I my name is Meghana S.R Bhange, I want to book an appointment for Ketaki and also Dr. S Kumar\" #@param {type:\"string\"}\n",
        "\n",
        "\n",
        "from spacy import displacy\n",
        "doc = nlp(text)\n",
        "ents = [\n",
        "        {\n",
        "            \"start\":doc.text.find(name.text),\n",
        "            \"end\" : doc.text.find(name.text)+len(name.text),\n",
        "            \"label\": name.label_\n",
        "        }\n",
        "        for name in doc._.person_name\n",
        "        ]\n",
        "ex = [{\"text\": doc.text,\n",
        "       \"ents\": ents,\n",
        "       \"title\": \"Denomme : Name Detection\"}]\n",
        "displacy.render(ex, style=\"ent\", manual=True, jupyter=True)"
      ],
      "execution_count": null,
      "outputs": []
    },
    {
      "cell_type": "code",
      "metadata": {
        "id": "0vZFem7rsfci"
      },
      "source": [
        ""
      ],
      "execution_count": null,
      "outputs": []
    }
  ]
}