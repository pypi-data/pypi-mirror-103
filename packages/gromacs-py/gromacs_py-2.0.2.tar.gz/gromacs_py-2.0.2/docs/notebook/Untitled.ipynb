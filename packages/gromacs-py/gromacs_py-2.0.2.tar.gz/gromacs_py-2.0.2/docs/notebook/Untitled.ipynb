{
 "cells": [
  {
   "cell_type": "code",
   "execution_count": null,
   "id": "6f482831",
   "metadata": {},
   "outputs": [],
   "source": [
    "e of r = r m = 2 1 / 6 σ {\\displaystyle r=r_{m}=2^{1/6}\\sigma } {\\displaystyle r=r_{m}=2^{1/6}\\sigma }, "
   ]
  },
  {
   "cell_type": "code",
   "execution_count": 1,
   "id": "0599f1ea",
   "metadata": {},
   "outputs": [
    {
     "data": {
      "text/plain": [
       "0.18156515875700116"
      ]
     },
     "execution_count": 1,
     "metadata": {},
     "output_type": "execute_result"
    }
   ],
   "source": [
    "rm = 0.2038\n",
    "\n",
    "sigma = rm / (2**(1/6))\n",
    "\n",
    "sigma"
   ]
  },
  {
   "cell_type": "code",
   "execution_count": null,
   "id": "016a471d",
   "metadata": {},
   "outputs": [],
   "source": []
  }
 ],
 "metadata": {
  "kernelspec": {
   "display_name": "Python 3",
   "language": "python",
   "name": "python3"
  },
  "language_info": {
   "codemirror_mode": {
    "name": "ipython",
    "version": 3
   },
   "file_extension": ".py",
   "mimetype": "text/x-python",
   "name": "python",
   "nbconvert_exporter": "python",
   "pygments_lexer": "ipython3",
   "version": "3.8.8"
  }
 },
 "nbformat": 4,
 "nbformat_minor": 5
}
