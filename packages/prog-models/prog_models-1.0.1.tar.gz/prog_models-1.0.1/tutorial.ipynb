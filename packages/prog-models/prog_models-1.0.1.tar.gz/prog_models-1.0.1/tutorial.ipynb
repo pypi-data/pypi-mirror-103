{
 "metadata": {
  "language_info": {
   "codemirror_mode": {
    "name": "ipython",
    "version": 3
   },
   "file_extension": ".py",
   "mimetype": "text/x-python",
   "name": "python",
   "nbconvert_exporter": "python",
   "pygments_lexer": "ipython3",
   "version": "3.6.13-final"
  },
  "orig_nbformat": 2,
  "kernelspec": {
   "name": "python3",
   "display_name": "Python 3.6.13 64-bit",
   "metadata": {
    "interpreter": {
     "hash": "c1e35f02e3a88578371dd5b5d88a204463a98b2d7cd5222657e170520db47be1"
    }
   }
  }
 },
 "nbformat": 4,
 "nbformat_minor": 2,
 "cells": [
  {
   "source": [
    "# Welcome to the Prognostics Model Library Tutorial"
   ],
   "cell_type": "markdown",
   "metadata": {}
  },
  {
   "source": [
    "The goal of this notebook is to instruct users on how to use and extend the NASA PCoE Python Prognostics Model Package. \n",
    "\n",
    "First some background. The Prognostics Model Package is a python package for the modeling and simulation of the evolution of state for physical components, with a focus on simulating specific events. When used for prognostics, these events are typically system failures, such as a winding failure on a motor or full discharge of a battery. \n",
    "\n",
    "A few definitions:\n",
    "* events: some state that can be predicted (e.g., system failure). An event has either occured or not. \n",
    "* event state: progress towards event occuring. Defined as a number where an event state of 0 indicates the event has occured and 1 indicates no progress towards the event (i.e., fully healthy operation for a failure event). For gradually occuring events (e.g., discharge) the number will progress from 1 to 0 as the event nears. In prognostics, event state is frequently called \"State of Health\"\n",
    "* inputs: control applied to the system being modeled (e.g., current drawn from a battery)\n",
    "* outputs: measured sensor values from a system (e.g., voltage and temperature of a battery)\n",
    "* states: Internal parameters (typically hidden states) used to represent the state of the system- can be same as inputs/outputs but do not have to be. \n",
    "* process noise: stochastic process representing uncertainty in the model transition. \n",
    "* measurement noise: stochastic process representing uncertainty in the measurement process; e.g., sensor sensitivity, sensor misalignements, environmental effects \n",
    "\n",
    "The `prog_models` package has the following structure\n",
    "* `prog_models.PrognosticsModel` - parent class for all prognostics models - defines interfaces that a model must implement, and tools for simulating said model \n",
    "* `prog_models.visualize` - tools for visualizing the results of a simulation \n",
    "* `prog_models.models.*` - implemented models (e.g., pump, valve, battery)\n",
    "\n",
    "In addition to the `prog_models` package, this repo includes examples showing how to use the package (see `examples/`), a template for implementing a new model (`prog_model_template`), documentation (`docs/`), and this tutorial (`tutorial.ipynb`).\n",
    "\n",
    "Before you start, make sure that all the required packages are installed (see `requirements.txt`)\n",
    "\n",
    "Now lets get started with some examples"
   ],
   "cell_type": "markdown",
   "metadata": {}
  },
  {
   "source": [
    "## Using the included models\n",
    "\n",
    "This first example is for using the included prognostics models. First thing to do is to import the model you would like to use:"
   ],
   "cell_type": "markdown",
   "metadata": {}
  },
  {
   "cell_type": "code",
   "execution_count": null,
   "metadata": {},
   "outputs": [],
   "source": [
    "from prog_models.models import BatteryCircuit"
   ]
  },
  {
   "source": [
    "This imports the battery_circuit model distributed with the `prog_models` package. \n",
    "\n",
    "Next, lets create a new battery using the default settings:"
   ],
   "cell_type": "markdown",
   "metadata": {}
  },
  {
   "cell_type": "code",
   "execution_count": null,
   "metadata": {},
   "outputs": [],
   "source": [
    "batt = BatteryCircuit()"
   ]
  },
  {
   "source": [
    "This creates a battery circuit model. You can also pass configuration parameters into the constructor as kwargs to configure the system, for example\n",
    "### <center>`BatteryCircuit(process_noise= 0)`</center>\n",
    "\n",
    "Alternatively, you can set the configuration of the system afterwards, like so:"
   ],
   "cell_type": "markdown",
   "metadata": {}
  },
  {
   "cell_type": "code",
   "execution_count": null,
   "metadata": {},
   "outputs": [],
   "source": [
    "batt.parameters['process_noise'] = 0 # No process noise"
   ]
  },
  {
   "source": [
    "Lets use the member properties to check out some details of the model, first the model configuration:"
   ],
   "cell_type": "markdown",
   "metadata": {}
  },
  {
   "cell_type": "code",
   "execution_count": null,
   "metadata": {},
   "outputs": [],
   "source": [
    "print('configuration: ', batt.parameters)"
   ]
  },
  {
   "source": [
    "You can also save or load your model configuration using pickle"
   ],
   "cell_type": "markdown",
   "metadata": {}
  },
  {
   "cell_type": "code",
   "execution_count": null,
   "metadata": {},
   "outputs": [],
   "source": [
    "import pickle\n",
    "pickle.dump(batt.parameters, open('ex.pickle', 'wb'))"
   ]
  },
  {
   "source": [
    "Then you can set your model configuration like below. This is useful for recording and restoring model configurations"
   ],
   "cell_type": "markdown",
   "metadata": {}
  },
  {
   "cell_type": "code",
   "execution_count": null,
   "metadata": {},
   "outputs": [],
   "source": [
    "batt.parameters = pickle.load(open('ex.pickle', 'rb'))"
   ]
  },
  {
   "source": [
    "Next the expected inputs (loading) and outputs (measurements)"
   ],
   "cell_type": "markdown",
   "metadata": {}
  },
  {
   "cell_type": "code",
   "execution_count": null,
   "metadata": {},
   "outputs": [],
   "source": [
    "print('inputs: ', batt.inputs)\n",
    "print('outputs: ', batt.outputs)"
   ]
  },
  {
   "source": [
    "Now lets look at what event we're predicting. This model only predicts one event, but that's not true for every model"
   ],
   "cell_type": "markdown",
   "metadata": {}
  },
  {
   "cell_type": "code",
   "execution_count": null,
   "metadata": {},
   "outputs": [],
   "source": [
    "print('event(s): ', batt.events)"
   ]
  },
  {
   "source": [
    "Finally, let's take a look at the internal states that the model uses to represent the system:"
   ],
   "cell_type": "markdown",
   "metadata": {}
  },
  {
   "cell_type": "code",
   "execution_count": null,
   "metadata": {},
   "outputs": [],
   "source": [
    "print('states: ', batt.states)"
   ]
  },
  {
   "source": [
    "All those checks were just to take a look at the properties of this model. Now let's work towards simulating. \n",
    "\n",
    "Next, we define future loading. This is a function that describes how the system will be loaded as a function of time. Here we're defining a basic peasewise function."
   ],
   "cell_type": "markdown",
   "metadata": {}
  },
  {
   "cell_type": "code",
   "execution_count": null,
   "metadata": {},
   "outputs": [],
   "source": [
    "def future_loading(t, x=None):\n",
    "    # Variable (piece-wise) future loading scheme \n",
    "    if (t < 600):\n",
    "        i = 2\n",
    "    elif (t < 900):\n",
    "        i = 1\n",
    "    elif (t < 1800):\n",
    "        i = 4\n",
    "    elif (t < 3000):\n",
    "        i = 2\n",
    "    else:\n",
    "        i = 3\n",
    "    return {'i': i}"
   ]
  },
  {
   "cell_type": "code",
   "execution_count": null,
   "metadata": {},
   "outputs": [],
   "source": []
  },
  {
   "source": [
    "At last it's time to simulate. First we're going to simulate forward 200 seconds. To do this we have to define our first expected output (e.g., measurement) to initialize the model state. Then we're going to use the function simulate_to() to simulate to the specified time and print the results"
   ],
   "cell_type": "markdown",
   "metadata": {}
  },
  {
   "cell_type": "code",
   "execution_count": null,
   "metadata": {},
   "outputs": [],
   "source": [
    "first_output = {'t': 18.95, 'v': 4.183} # temperature of 18.95, and voltage of 4.183\n",
    "time_to_simulate_to = 200\n",
    "sim_config = {'save_freq': 20}\n",
    "(times, inputs, states, outputs, event_states) = batt.simulate_to(time_to_simulate_to, future_loading, first_output, **sim_config)\n",
    "\n",
    "for i in range(len(times)): # Print Results\n",
    "    print(\"Time: {}\\n\\tInput: {}\\n\\tState: {}\\n\\tOutput: {}\\n\\tEvent State: {}\\n\".format(times[i], inputs[i], states[i], outputs[i], event_states[i]))"
   ]
  },
  {
   "source": [
    "We can also use the visualize package to plot the results"
   ],
   "cell_type": "markdown",
   "metadata": {}
  },
  {
   "cell_type": "code",
   "execution_count": null,
   "metadata": {},
   "outputs": [],
   "source": [
    "from prog_models import visualize\n",
    "visualize.plot_timeseries( times, event_states, options={'ylabel': 'SOC'})\n",
    "visualize.plot_timeseries( times, outputs, options={'ylabel': {'v': \"voltage (V)\", 't': 'temperature (°C)'}, 'compact': False})\n"
   ]
  },
  {
   "source": [
    "Instead of specifying a specific amount of time, we can also simulate until a threshold has been met using the simulate_to_threshold() method\n",
    "\n",
    "\n"
   ],
   "cell_type": "markdown",
   "metadata": {}
  },
  {
   "cell_type": "code",
   "execution_count": null,
   "metadata": {},
   "outputs": [],
   "source": [
    "options = { #configuration for this sim\n",
    "    'save_freq': 100, # Frequency at which results are saved (s)\n",
    "    'horizon': 5000 # Maximum time to simulate (s) - This is a cutoff. The simulation will end at this time, or when a threshold has been met, whichever is first\n",
    "    }\n",
    "(times, inputs, states, outputs, event_states) = batt.simulate_to_threshold(future_loading, {'t': 18.95, 'v': 4.183}, **options)\n",
    "visualize.plot_timeseries( times, event_states, options={'ylabel': 'SOC'})\n",
    "visualize.plot_timeseries( times, outputs, options={'ylabel': {'v': \"voltage (V)\", 't': 'temperature (°C)'}, 'compact': False})"
   ]
  },
  {
   "source": [
    "Default is to simulate until any threshold is met, but we can also specify which event we are simulating to (any key from model.events) for multiple event models. "
   ],
   "cell_type": "markdown",
   "metadata": {}
  },
  {
   "source": [
    "## Building a new model using model generation\n",
    "The easiest way to build a new model is by using the model generation feature. This works for simple models.\n",
    "\n",
    "For this example, let's use a model of throwing an object directly into the air in a vacuum.\n",
    "\n",
    "First lets describe the model in a dictionary:"
   ],
   "cell_type": "markdown",
   "metadata": {}
  },
  {
   "cell_type": "code",
   "execution_count": null,
   "metadata": {},
   "outputs": [],
   "source": [
    "keys = {\n",
    "    'inputs': [], # no inputs, no way to control\n",
    "    'states': [\n",
    "        'x', # Position (m) \n",
    "        'v'  # Velocity (m/s)\n",
    "    ],\n",
    "    'outputs': [ # Anything we can measure\n",
    "        'x' # Position (m)\n",
    "    ],\n",
    "    'events': [\n",
    "        'falling', # Event- object is falling\n",
    "        'impact' # Event- object has impacted the ground\n",
    "    ]\n",
    "}"
   ]
  },
  {
   "source": [
    "Here we have a description of what we're going to try to model, including any inputs, states, outputs, and predicted events. Now we can start defining the details of the model logic.\n",
    "\n",
    "First, we're going to define the initialization function. This is used to generate the first state."
   ],
   "cell_type": "markdown",
   "metadata": {}
  },
  {
   "cell_type": "code",
   "execution_count": null,
   "metadata": {},
   "outputs": [],
   "source": [
    "thrower_height = 1.83 # m\n",
    "throwing_speed = 40 # m/s\n",
    "def initialize(u, z):\n",
    "    return {\n",
    "        'x': thrower_height, # Thrown, so initial altitude is height of thrower\n",
    "        'v': throwing_speed # Velocity at which the ball is thrown - this guy is an professional baseball pitcher\n",
    "        }"
   ]
  },
  {
   "source": [
    "Next, lets define the output equation- this translates from the state to any measurable parameters. In this case it's simple since we're saying the position ('x') state is directly measureable."
   ],
   "cell_type": "markdown",
   "metadata": {}
  },
  {
   "cell_type": "code",
   "execution_count": null,
   "metadata": {},
   "outputs": [],
   "source": [
    "def output(x):\n",
    "    return {\n",
    "        'x': x['x']\n",
    "    }"
   ]
  },
  {
   "source": [
    "Now, let's define the threshold_met and event_state equations. This defines when each event has occured, and how close you are to the event occuring, respectively. "
   ],
   "cell_type": "markdown",
   "metadata": {}
  },
  {
   "cell_type": "code",
   "execution_count": null,
   "metadata": {},
   "outputs": [],
   "source": [
    "def threshold_met(x):\n",
    "    return {\n",
    "        'falling': x['v'] < 0,\n",
    "        'impact': x['x'] <= 0\n",
    "    }\n",
    "\n",
    "def event_state(x): \n",
    "    event_state.max_x = max(event_state.max_x, x['x']) # Maximum altitude\n",
    "    return {\n",
    "        'falling': max(x['v']/throwing_speed,0), # Throwing speed is max speed\n",
    "        'impact': (x['v'] > 0) or max(x['x']/event_state.max_x,0) # 1 until falling begins, then it's fraction of height\n",
    "    }\n",
    "event_state.max_x = 0"
   ]
  },
  {
   "source": [
    "Note: strictly speaking the threshold_met equation isn't needed here- the default behavior is that the threshold is met when event state reaches 0. We define it here, because this implementation is more efficient. \n",
    "\n",
    "Finally, we define the meat of the model. There are two types of models: continuous and discrete. Discrete models are defined by some sort of transition equation x' = next_state(x, u, dt) while continuous models can be defined by the first derivative dx = dx(x, u). This model is continuous, so we define the equation dx:"
   ],
   "cell_type": "markdown",
   "metadata": {}
  },
  {
   "cell_type": "code",
   "execution_count": null,
   "metadata": {},
   "outputs": [],
   "source": [
    "def dx(x, u):\n",
    "    return {\n",
    "        'x': x['v'],\n",
    "        'v': -9.81 # Acceleration of gravity\n",
    "    }"
   ]
  },
  {
   "source": [
    "Now we have all our pieces and can put it all together"
   ],
   "cell_type": "markdown",
   "metadata": {}
  },
  {
   "cell_type": "code",
   "execution_count": null,
   "metadata": {},
   "outputs": [],
   "source": [
    "from prog_models import PrognosticsModel\n",
    "m = PrognosticsModel.generate_model(keys, initialize, output, event_state_eqn = event_state, threshold_eqn=threshold_met, dx_eqn=dx)"
   ]
  },
  {
   "source": [
    "Now that we have our model `m` we can use it just like the model in our previous example. "
   ],
   "cell_type": "markdown",
   "metadata": {}
  },
  {
   "cell_type": "code",
   "execution_count": null,
   "metadata": {},
   "outputs": [],
   "source": [
    "def future_load(t, x=None):\n",
    "        return {} # No loading\n",
    "event = 'impact'\n",
    "\n",
    "(times, inputs, states, outputs, event_states) = m.simulate_to_threshold(future_load, {'x':thrower_height}, threshold_keys=[event], dt=0.005, save_freq=1)\n",
    "\n",
    "visualize.plot_timeseries( times, event_states, options={'ylabel': ['falling', 'impact'], 'compact': False})\n",
    "visualize.plot_timeseries( times, states, options={'ylabel': {'x': \"position (m)\", 'v': 'velocity (m/s)'}, 'compact': False})"
   ]
  },
  {
   "source": [
    "## Building a new model - advanced\n",
    "For more advanced models, you can create a seperate class to defin the logic of the model. The functions are the same, just in a different format, and with added parameters. The model above could be defined using this approach like so:\n"
   ],
   "cell_type": "markdown",
   "metadata": {}
  },
  {
   "cell_type": "code",
   "execution_count": null,
   "metadata": {},
   "outputs": [],
   "source": [
    "from prog_models import PrognosticsModel\n",
    "\n",
    "# Model used in example\n",
    "class ThrownObject(PrognosticsModel):\n",
    "    \"\"\"\n",
    "    Model that similates an object thrown into the air without air resistance\n",
    "    \"\"\"\n",
    "\n",
    "    inputs = [] # no inputs, no way to control\n",
    "    states = [\n",
    "        'x', # Position (m) \n",
    "        'v'  # Velocity (m/s)\n",
    "        ]\n",
    "    outputs = [ # Anything we can measure\n",
    "        'x' # Position (m)\n",
    "    ]\n",
    "    events = [\n",
    "        'falling', # Event- object is falling\n",
    "        'impact' # Event- object has impacted ground\n",
    "    ]\n",
    "\n",
    "    # The Default parameters. Overwritten by passing parameters dictionary into constructor\n",
    "    default_parameters = {\n",
    "        'thrower_height': 1.83, # m\n",
    "        'throwing_speed': 40, # m/s\n",
    "        'g': -9.81, # Acceleration due to gravity in m/s^2\n",
    "        'process_noise': 0.0 # amount of noise in each step\n",
    "    }\n",
    "\n",
    "    def initialize(self, u, z):\n",
    "        self.max_x = 0.0\n",
    "        return {\n",
    "            'x': self.parameters['thrower_height'], # Thrown, so initial altitude is height of thrower\n",
    "            'v': self.parameters['throwing_speed'] # Velocity at which the ball is thrown - this guy is an professional baseball pitcher\n",
    "            }\n",
    "    \n",
    "    def dx(self, x, u):\n",
    "        # apply_process_noise is used to add process noise to each step\n",
    "        return self.apply_process_noise({\n",
    "            'x': x['v'],\n",
    "            'v': self.parameters['g'] # Acceleration of gravity\n",
    "        })\n",
    "\n",
    "    def output(self, x):\n",
    "        return self.apply_measurement_noise({\n",
    "            'x': x['x']\n",
    "        })\n",
    "\n",
    "    # This is actually optional. Leaving thresholds_met empty will use the event state to define thresholds.\n",
    "    #  Threshold = Event State == 0. However, this implementation is more efficient, so we included it\n",
    "    def threshold_met(self, x):\n",
    "        return {\n",
    "            'falling': x['v'] < 0,\n",
    "            'impact': x['x'] <= 0\n",
    "        }\n",
    "\n",
    "    def event_state(self, x): \n",
    "        self.max_x = max(self.max_x, x['x']) # Maximum altitude\n",
    "        return {\n",
    "            'falling': max(x['v']/self.parameters['throwing_speed'],0), # Throwing speed is max speed\n",
    "            'impact': (x['v'] > 0) or max(x['x']/self.max_x,0) # 1 until falling begins, then it's fraction of height\n",
    "        }"
   ]
  },
  {
   "source": [
    "Now the model can be generated and used like any of the other provided models"
   ],
   "cell_type": "markdown",
   "metadata": {}
  },
  {
   "cell_type": "code",
   "execution_count": null,
   "metadata": {},
   "outputs": [],
   "source": [
    "m = ThrownObject()\n",
    "\n",
    "def future_load(t, x=None):\n",
    "        return {} # No loading\n",
    "event = 'impact'\n",
    "\n",
    "(times, inputs, states, outputs, event_states) = m.simulate_to_threshold(future_load, {'x':m.parameters['thrower_height']}, threshold_keys=[event], dt=0.005, save_freq=1)\n",
    "\n",
    "from prog_models import visualize\n",
    "visualize.plot_timeseries( times, event_states, options={'ylabel': ['falling', 'impact'], 'compact': False})\n",
    "visualize.plot_timeseries( times, states, options={'ylabel': {'x': \"position (m)\", 'v': 'velocity (m/s)'}, 'compact': False})"
   ]
  },
  {
   "source": [
    "## Conclusion\n",
    "Thank you for trying out this tutorial. See the examples in the `examples/` folder for more details on how to use the package. Any questions can be directed to Chris Teubert (christopher.a.teubert@nasa.gov)"
   ],
   "cell_type": "markdown",
   "metadata": {}
  },
  {
   "cell_type": "code",
   "execution_count": null,
   "metadata": {},
   "outputs": [],
   "source": []
  }
 ]
}