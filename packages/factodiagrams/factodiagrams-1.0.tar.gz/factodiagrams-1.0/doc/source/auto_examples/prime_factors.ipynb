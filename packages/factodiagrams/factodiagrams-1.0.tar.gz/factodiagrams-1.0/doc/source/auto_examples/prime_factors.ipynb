{
  "cells": [
    {
      "cell_type": "code",
      "execution_count": null,
      "metadata": {
        "collapsed": false
      },
      "outputs": [],
      "source": [
        "%matplotlib inline"
      ]
    },
    {
      "cell_type": "markdown",
      "metadata": {},
      "source": [
        "\n# This is my example script\n\nThis example doesn't do much, it just makes a simple plot\n"
      ]
    },
    {
      "cell_type": "markdown",
      "metadata": {},
      "source": [
        "## This is a section header\n\nIn the built documentation, it will be rendered as rST. All rST lines\nmust begin with '# ' (note the space) including underlines below section\nheaders.\n\n"
      ]
    },
    {
      "cell_type": "code",
      "execution_count": null,
      "metadata": {
        "collapsed": false
      },
      "outputs": [],
      "source": [
        "# These lines won't be rendered as rST because there is a gap after the last\n# commented rST block. Instead, they'll resolve as regular Python comments.\n# Normal Python code can follow these comments.\nfrom Factorization import *\n\nfactorisation=Factorization()\nprint(factorisation.prime_factors(70))"
      ]
    }
  ],
  "metadata": {
    "kernelspec": {
      "display_name": "Python 3",
      "language": "python",
      "name": "python3"
    },
    "language_info": {
      "codemirror_mode": {
        "name": "ipython",
        "version": 3
      },
      "file_extension": ".py",
      "mimetype": "text/x-python",
      "name": "python",
      "nbconvert_exporter": "python",
      "pygments_lexer": "ipython3",
      "version": "3.9.1"
    }
  },
  "nbformat": 4,
  "nbformat_minor": 0
}